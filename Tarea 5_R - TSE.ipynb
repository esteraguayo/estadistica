{
 "cells": [
  {
   "cell_type": "markdown",
   "metadata": {},
   "source": [
    "## Ejercicio 3 \n",
    "\n",
    "Resuelva las ecuaciones de Painlenvé numericamente para encontrar la distribución Tracy-Widom para $\\beta= 1,2$. Se recomienda seguir la sección 2.4 de *Random Matrix Theory and its Innovative Applications (A. Edelman,2013)*"
   ]
  },
  {
   "cell_type": "code",
   "execution_count": 12,
   "metadata": {
    "scrolled": true
   },
   "outputs": [],
   "source": [
    "#librerías\n",
    "library(\"deSolve\")\n",
    "library(\"gsl\")\n",
    "library(\"numDeriv\")\n",
    "library(\"pracma\")\n",
    "library(\"deTestSet\")"
   ]
  },
  {
   "cell_type": "markdown",
   "metadata": {},
   "source": [
    "Para $\\beta = 2$\n",
    "$$F_2(s) = exp \\left ( -\\int_{s}^{\\infty} (x-s)^2q(x)dx \\right )$$"
   ]
  },
  {
   "cell_type": "code",
   "execution_count": 34,
   "metadata": {},
   "outputs": [],
   "source": [
    "#parámetros\n",
    "t0 <- 5\n",
    "tn <- -6\n",
    "#donde se va evaluar\n",
    "tseq <- seq(t0, tn, length.out = 10000)\n",
    "# ecuación diferencial a resolver\n",
    "deq <- function (t,y,parms){\n",
    "    list (c(y[2],t * y[1] + 2 * y[1] ^ 3, y[4], y[1] ^ 2) ) }\n",
    "\n",
    "#condiciones\n",
    "y0 <-  c(airy_Ai(t0), airy_Ai_deriv(t0), 0, airy_Ai(t0) ^ 2)\n",
    "#solución de la ecuación\n",
    "F_ode <- ode(y=y0, times=tseq, func=deq, parms=NULL, method=\"rk4\")\n",
    "#la distribucuion\n",
    "F2 <- exp(-F_ode[, \"3\"])\n",
    "#la densidad\n",
    "f2 <- gradient(F2, tseq)"
   ]
  },
  {
   "cell_type": "markdown",
   "metadata": {},
   "source": [
    "Para $\\beta=1$\n",
    "$$F_1(s)= \\sqrt{ F_2(s) exp \\left ( -\\int_{s}^{\\infty} q(x)dx \\right ) }$$"
   ]
  },
  {
   "cell_type": "code",
   "execution_count": 35,
   "metadata": {},
   "outputs": [],
   "source": [
    "t0 <- 5\n",
    "tn <- -6\n",
    "deq <- function(t, x, parms) {\n",
    "  list(c(x[2],t * x[1] + 2 * x[1] ^ 3,x[4],x[1])) }\n",
    "\n",
    "tseq <- seq(t0, tn, length.out = 10000)\n",
    "x0 <- c(airy_Ai(t0),airy_Ai_deriv(t0),0,airy_Ai(t0) ^ 2)\n",
    "\n",
    "F_ode <- ode(y=x0, times=tseq, func=deq, parms=NULL, method=\"rk4\")\n",
    "\n",
    "#la distribucuion aquí cambia respecto a beta=2\n",
    "F1 <- sqrt(F2*exp(-F_ode[, \"3\"]))\n",
    "#la densidad\n",
    "f1 <- gradient(F1, tseq)\n"
   ]
  },
  {
   "cell_type": "code",
   "execution_count": 63,
   "metadata": {},
   "outputs": [
    {
     "data": {
      "image/png": "[encoded data removed]",
      "text/plain": [
       "Plot with title \"Distribuciones de Tracy-Widom\""
      ]
     },
     "metadata": {},
     "output_type": "display_data"
    }
   ],
   "source": [
    "#grafico\n",
    "plot(tseq,f2, col=\"#6495ed\", type=\"l\",lty=2, lwd=3,\n",
    "    xlab =\"s\", ylab=\"f(s)\", main=\"Distribuciones de Tracy-Widom\" )\n",
    "lines(tseq,f1, col=\"#b3574b\",lty=1, lwd=3)\n",
    "legend(\"topleft\", legend = c(\"Beta 1\", \"Beta 2\"),\n",
    "       col = c(\"#b3574b\", \"#6495ed\"), lty = 1:2, lwd=c(3,3), cex = 0.8)"
   ]
  },
  {
   "cell_type": "markdown",
   "metadata": {},
   "source": [
    "## Ejercicio 4\n",
    "Suponga que en una muestra de $n=10$ observaciones viene de una población con distribución $N_{10}(0, \\Sigma)$, y encontramos que el eigenvalor propio más grande de la muestra es $\\hat{\\lambda_1} = 4.3$"
   ]
  },
  {
   "cell_type": "markdown",
   "metadata": {},
   "source": [
    "* **¿Este valor es consistente con la hipótesis $H_0 = W_{10}(10, I)$ aún y cuando el valor de 4.3 cae fuera del suporte $[0,4]$ de la distribución de Marcenko-Pastur?**\n",
    "\n",
    "Reescalaremos este valor con la aproximación de 2do orden que vimos en clase para hacerlo comparable con los datos obtenidos anteriormente"
   ]
  },
  {
   "cell_type": "code",
   "execution_count": 66,
   "metadata": {},
   "outputs": [
    {
     "name": "stdout",
     "output_type": "stream",
     "text": [
      "[1] 0.9368904\n"
     ]
    }
   ],
   "source": [
    "#escalamiento\n",
    "n=10\n",
    "p=10\n",
    "mu = (sqrt(n-1/2)+sqrt(p-1/2))^2\n",
    "sigma = ( sqrt(n-1/2)+sqrt(p-1/2))*((1/sqrt(n-1/2) + 1/sqrt(p-1/2))^(1/3))\n",
    "lambda_est <- (n*4.3 -mu)/sigma\n",
    "\n",
    "print(lambda_est)"
   ]
  },
  {
   "cell_type": "markdown",
   "metadata": {},
   "source": [
    "En lugar de 4.3 haremos las pruebas con el valor 0.9368\n",
    "\n",
    "Si observamos el soporte o como se comporta la distribución de Tracy-Widom podemos observar que este número (.9368) se encuentra dentro de nuestro rango de evaluación, por lo que, a pesar que no esté en el soporte de Macenko-Pasteur, para esta distribución si tiene un valor asociado"
   ]
  },
  {
   "cell_type": "markdown",
   "metadata": {},
   "source": [
    "* **Utilizando la aproximación a 2do orden calcule la probabilidad de encontrar un valor más extremo a 4.3**"
   ]
  },
  {
   "cell_type": "code",
   "execution_count": 88,
   "metadata": {},
   "outputs": [
    {
     "data": {
      "text/html": [
       "0.0530234187802073"
      ],
      "text/latex": [
       "0.0530234187802073"
      ],
      "text/markdown": [
       "0.0530234187802073"
      ],
      "text/plain": [
       "[1] 0.05302342"
      ]
     },
     "metadata": {},
     "output_type": "display_data"
    }
   ],
   "source": [
    "# Para este ejercicio utilizaremos la libería que existe en R \n",
    "# sobre la distribución de Tracy_Widom, ya que no sé si los resultados\n",
    "# del ejercicio anterior estén del todo correcto\n",
    "library(\"RMTstat\")\n",
    "#vamos a obtener la función de distribución de este valor\n",
    "pr <- 1 - ptw(lambda_est)\n",
    "pr"
   ]
  },
  {
   "cell_type": "markdown",
   "metadata": {},
   "source": [
    "La probabilidad es del 5.30%"
   ]
  },
  {
   "cell_type": "markdown",
   "metadata": {},
   "source": [
    "* **Rechace o acepte la hipótesis nula $H_0$ bajo un nivel de significancia del 1%; 5% y 10%**"
   ]
  },
  {
   "cell_type": "code",
   "execution_count": 90,
   "metadata": {},
   "outputs": [
    {
     "data": {
      "text/html": [
       "TRUE"
      ],
      "text/latex": [
       "TRUE"
      ],
      "text/markdown": [
       "TRUE"
      ],
      "text/plain": [
       "[1] TRUE"
      ]
     },
     "metadata": {},
     "output_type": "display_data"
    },
    {
     "data": {
      "text/html": [
       "TRUE"
      ],
      "text/latex": [
       "TRUE"
      ],
      "text/markdown": [
       "TRUE"
      ],
      "text/plain": [
       "[1] TRUE"
      ]
     },
     "metadata": {},
     "output_type": "display_data"
    },
    {
     "data": {
      "text/html": [
       "FALSE"
      ],
      "text/latex": [
       "FALSE"
      ],
      "text/markdown": [
       "FALSE"
      ],
      "text/plain": [
       "[1] FALSE"
      ]
     },
     "metadata": {},
     "output_type": "display_data"
    }
   ],
   "source": [
    "# Obtendremos los cuantiles para esas medidas\n",
    "q_01 = qtw(.99)\n",
    "q_05 = qtw(.95)\n",
    "q_1 = qtw(.9)\n",
    "\n",
    "#vemos si son mayores que mi valor\n",
    "\n",
    "q_01>lambda_est\n",
    "q_05>lambda_est\n",
    "q_1>lambda_est\n"
   ]
  },
  {
   "cell_type": "code",
   "execution_count": 89,
   "metadata": {},
   "outputs": [
    {
     "data": {
      "text/html": [
       "FALSE"
      ],
      "text/latex": [
       "FALSE"
      ],
      "text/markdown": [
       "FALSE"
      ],
      "text/plain": [
       "[1] FALSE"
      ]
     },
     "metadata": {},
     "output_type": "display_data"
    },
    {
     "data": {
      "text/html": [
       "FALSE"
      ],
      "text/latex": [
       "FALSE"
      ],
      "text/markdown": [
       "FALSE"
      ],
      "text/plain": [
       "[1] FALSE"
      ]
     },
     "metadata": {},
     "output_type": "display_data"
    },
    {
     "data": {
      "text/html": [
       "TRUE"
      ],
      "text/latex": [
       "TRUE"
      ],
      "text/markdown": [
       "TRUE"
      ],
      "text/plain": [
       "[1] TRUE"
      ]
     },
     "metadata": {},
     "output_type": "display_data"
    }
   ],
   "source": [
    "pr<.01\n",
    "pr<.05\n",
    "pr<.1"
   ]
  },
  {
   "cell_type": "markdown",
   "metadata": {},
   "source": [
    "Solo rechazamos para $\\alpha=10\\%$"
   ]
  },
  {
   "cell_type": "markdown",
   "metadata": {},
   "source": [
    "**Conclusiones**\n",
    "\n",
    "Conocer cómo se distribuyen los eigenvalores más grandes nos puede ayudar a saber si una matriz corresponde a cierto ensemble.\n",
    "También ahora que se tiene disponible alguna prueba de hipótesis, podemos tener un sustento estadístico para poder operar con matrices según el ensemble asignado, o justo también para saber si no pertenecen a un grupo específico justificar si es necesario un tratamiento diferente.\n"
   ]
  }
 ],
 "metadata": {
  "kernelspec": {
   "display_name": "R",
   "language": "R",
   "name": "ir"
  },
  "language_info": {
   "codemirror_mode": "r",
   "file_extension": ".r",
   "mimetype": "text/x-r-source",
   "name": "R",
   "pygments_lexer": "r",
   "version": "3.6.1"
  }
 },
 "nbformat": 4,
 "nbformat_minor": 2
}
